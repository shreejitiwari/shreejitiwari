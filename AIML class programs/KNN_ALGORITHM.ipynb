{
  "nbformat": 4,
  "nbformat_minor": 0,
  "metadata": {
    "colab": {
      "provenance": []
    },
    "kernelspec": {
      "name": "python3",
      "display_name": "Python 3"
    },
    "language_info": {
      "name": "python"
    }
  },
  "cells": [
    {
      "cell_type": "markdown",
      "source": [
        "#Step 1: Handling the data\n",
        "The very first step will be handling the iris dataset. Open the dataset using the open function and read the data lines with the reader function available under the csv module."
      ],
      "metadata": {
        "id": "eY9Z105d3KN-"
      }
    },
    {
      "cell_type": "code",
      "execution_count": 2,
      "metadata": {
        "colab": {
          "base_uri": "https://localhost:8080/"
        },
        "id": "hw5doVNi24Nq",
        "outputId": "c387d8e2-0fb8-4cdb-ce86-723c8e7b0e15"
      },
      "outputs": [
        {
          "output_type": "stream",
          "name": "stdout",
          "text": [
            "sepal_length, sepal_width, petal_length, petal_width, species\n",
            "5.1, 3.5, 1.4, 0.2, Iris-setosa\n",
            "4.9, 3, 1.4, 0.2, Iris-setosa\n",
            "4.7, 3.2, 1.3, 0.2, Iris-setosa\n",
            "4.6, 3.1, 1.5, 0.2, Iris-setosa\n",
            "5, 3.6, 1.4, 0.2, Iris-setosa\n",
            "5.4, 3.9, 1.7, 0.4, Iris-setosa\n",
            "4.6, 3.4, 1.4, 0.3, Iris-setosa\n",
            "5, 3.4, 1.5, 0.2, Iris-setosa\n",
            "4.4, 2.9, 1.4, 0.2, Iris-setosa\n",
            "4.9, 3.1, 1.5, 0.1, Iris-setosa\n",
            "5.4, 3.7, 1.5, 0.2, Iris-setosa\n",
            "4.8, 3.4, 1.6, 0.2, Iris-setosa\n",
            "4.8, 3, 1.4, 0.1, Iris-setosa\n",
            "4.3, 3, 1.1, 0.1, Iris-setosa\n",
            "5.8, 4, 1.2, 0.2, Iris-setosa\n",
            "5.7, 4.4, 1.5, 0.4, Iris-setosa\n",
            "5.4, 3.9, 1.3, 0.4, Iris-setosa\n",
            "5.1, 3.5, 1.4, 0.3, Iris-setosa\n",
            "5.7, 3.8, 1.7, 0.3, Iris-setosa\n",
            "5.1, 3.8, 1.5, 0.3, Iris-setosa\n",
            "5.4, 3.4, 1.7, 0.2, Iris-setosa\n",
            "5.1, 3.7, 1.5, 0.4, Iris-setosa\n",
            "4.6, 3.6, 1, 0.2, Iris-setosa\n",
            "5.1, 3.3, 1.7, 0.5, Iris-setosa\n",
            "4.8, 3.4, 1.9, 0.2, Iris-setosa\n",
            "5, 3, 1.6, 0.2, Iris-setosa\n",
            "5, 3.4, 1.6, 0.4, Iris-setosa\n",
            "5.2, 3.5, 1.5, 0.2, Iris-setosa\n",
            "5.2, 3.4, 1.4, 0.2, Iris-setosa\n",
            "4.7, 3.2, 1.6, 0.2, Iris-setosa\n",
            "4.8, 3.1, 1.6, 0.2, Iris-setosa\n",
            "5.4, 3.4, 1.5, 0.4, Iris-setosa\n",
            "5.2, 4.1, 1.5, 0.1, Iris-setosa\n",
            "5.5, 4.2, 1.4, 0.2, Iris-setosa\n",
            "4.9, 3.1, 1.5, 0.1, Iris-setosa\n",
            "5, 3.2, 1.2, 0.2, Iris-setosa\n",
            "5.5, 3.5, 1.3, 0.2, Iris-setosa\n",
            "4.9, 3.1, 1.5, 0.1, Iris-setosa\n",
            "4.4, 3, 1.3, 0.2, Iris-setosa\n",
            "5.1, 3.4, 1.5, 0.2, Iris-setosa\n",
            "5, 3.5, 1.3, 0.3, Iris-setosa\n",
            "4.5, 2.3, 1.3, 0.3, Iris-setosa\n",
            "4.4, 3.2, 1.3, 0.2, Iris-setosa\n",
            "5, 3.5, 1.6, 0.6, Iris-setosa\n",
            "5.1, 3.8, 1.9, 0.4, Iris-setosa\n",
            "4.8, 3, 1.4, 0.3, Iris-setosa\n",
            "5.1, 3.8, 1.6, 0.2, Iris-setosa\n",
            "4.6, 3.2, 1.4, 0.2, Iris-setosa\n",
            "5.3, 3.7, 1.5, 0.2, Iris-setosa\n",
            "5, 3.3, 1.4, 0.2, Iris-setosa\n",
            "7, 3.2, 4.7, 1.4, Iris-versicolor\n",
            "6.4, 3.2, 4.5, 1.5, Iris-versicolor\n",
            "6.9, 3.1, 4.9, 1.5, Iris-versicolor\n",
            "5.5, 2.3, 4, 1.3, Iris-versicolor\n",
            "6.5, 2.8, 4.6, 1.5, Iris-versicolor\n",
            "5.7, 2.8, 4.5, 1.3, Iris-versicolor\n",
            "6.3, 3.3, 4.7, 1.6, Iris-versicolor\n",
            "4.9, 2.4, 3.3, 1, Iris-versicolor\n",
            "6.6, 2.9, 4.6, 1.3, Iris-versicolor\n",
            "5.2, 2.7, 3.9, 1.4, Iris-versicolor\n",
            "5, 2, 3.5, 1, Iris-versicolor\n",
            "5.9, 3, 4.2, 1.5, Iris-versicolor\n",
            "6, 2.2, 4, 1, Iris-versicolor\n",
            "6.1, 2.9, 4.7, 1.4, Iris-versicolor\n",
            "5.6, 2.9, 3.6, 1.3, Iris-versicolor\n",
            "6.7, 3.1, 4.4, 1.4, Iris-versicolor\n",
            "5.6, 3, 4.5, 1.5, Iris-versicolor\n",
            "5.8, 2.7, 4.1, 1, Iris-versicolor\n",
            "6.2, 2.2, 4.5, 1.5, Iris-versicolor\n",
            "5.6, 2.5, 3.9, 1.1, Iris-versicolor\n",
            "5.9, 3.2, 4.8, 1.8, Iris-versicolor\n",
            "6.1, 2.8, 4, 1.3, Iris-versicolor\n",
            "6.3, 2.5, 4.9, 1.5, Iris-versicolor\n",
            "6.1, 2.8, 4.7, 1.2, Iris-versicolor\n",
            "6.4, 2.9, 4.3, 1.3, Iris-versicolor\n",
            "6.6, 3, 4.4, 1.4, Iris-versicolor\n",
            "6.8, 2.8, 4.8, 1.4, Iris-versicolor\n",
            "6.7, 3, 5, 1.7, Iris-versicolor\n",
            "6, 2.9, 4.5, 1.5, Iris-versicolor\n",
            "5.7, 2.6, 3.5, 1, Iris-versicolor\n",
            "5.5, 2.4, 3.8, 1.1, Iris-versicolor\n",
            "5.5, 2.4, 3.7, 1, Iris-versicolor\n",
            "5.8, 2.7, 3.9, 1.2, Iris-versicolor\n",
            "6, 2.7, 5.1, 1.6, Iris-versicolor\n",
            "5.4, 3, 4.5, 1.5, Iris-versicolor\n",
            "6, 3.4, 4.5, 1.6, Iris-versicolor\n",
            "6.7, 3.1, 4.7, 1.5, Iris-versicolor\n",
            "6.3, 2.3, 4.4, 1.3, Iris-versicolor\n",
            "5.6, 3, 4.1, 1.3, Iris-versicolor\n",
            "5.5, 2.5, 4, 1.3, Iris-versicolor\n",
            "5.5, 2.6, 4.4, 1.2, Iris-versicolor\n",
            "6.1, 3, 4.6, 1.4, Iris-versicolor\n",
            "5.8, 2.6, 4, 1.2, Iris-versicolor\n",
            "5, 2.3, 3.3, 1, Iris-versicolor\n",
            "5.6, 2.7, 4.2, 1.3, Iris-versicolor\n",
            "5.7, 3, 4.2, 1.2, Iris-versicolor\n",
            "5.7, 2.9, 4.2, 1.3, Iris-versicolor\n",
            "6.2, 2.9, 4.3, 1.3, Iris-versicolor\n",
            "5.1, 2.5, 3, 1.1, Iris-versicolor\n",
            "5.7, 2.8, 4.1, 1.3, Iris-versicolor\n",
            "6.3, 3.3, 6, 2.5, Iris-virginica\n",
            "5.8, 2.7, 5.1, 1.9, Iris-virginica\n",
            "7.1, 3, 5.9, 2.1, Iris-virginica\n",
            "6.3, 2.9, 5.6, 1.8, Iris-virginica\n",
            "6.5, 3, 5.8, 2.2, Iris-virginica\n",
            "7.6, 3, 6.6, 2.1, Iris-virginica\n",
            "4.9, 2.5, 4.5, 1.7, Iris-virginica\n",
            "7.3, 2.9, 6.3, 1.8, Iris-virginica\n",
            "6.7, 2.5, 5.8, 1.8, Iris-virginica\n",
            "7.2, 3.6, 6.1, 2.5, Iris-virginica\n",
            "6.5, 3.2, 5.1, 2, Iris-virginica\n",
            "6.4, 2.7, 5.3, 1.9, Iris-virginica\n",
            "6.8, 3, 5.5, 2.1, Iris-virginica\n",
            "5.7, 2.5, 5, 2, Iris-virginica\n",
            "5.8, 2.8, 5.1, 2.4, Iris-virginica\n",
            "6.4, 3.2, 5.3, 2.3, Iris-virginica\n",
            "6.5, 3, 5.5, 1.8, Iris-virginica\n",
            "7.7, 3.8, 6.7, 2.2, Iris-virginica\n",
            "7.7, 2.6, 6.9, 2.3, Iris-virginica\n",
            "6, 2.2, 5, 1.5, Iris-virginica\n",
            "6.9, 3.2, 5.7, 2.3, Iris-virginica\n",
            "5.6, 2.8, 4.9, 2, Iris-virginica\n",
            "7.7, 2.8, 6.7, 2, Iris-virginica\n",
            "6.3, 2.7, 4.9, 1.8, Iris-virginica\n",
            "6.7, 3.3, 5.7, 2.1, Iris-virginica\n",
            "7.2, 3.2, 6, 1.8, Iris-virginica\n",
            "6.2, 2.8, 4.8, 1.8, Iris-virginica\n",
            "6.1, 3, 4.9, 1.8, Iris-virginica\n",
            "6.4, 2.8, 5.6, 2.1, Iris-virginica\n",
            "7.2, 3, 5.8, 1.6, Iris-virginica\n",
            "7.4, 2.8, 6.1, 1.9, Iris-virginica\n",
            "7.9, 3.8, 6.4, 2, Iris-virginica\n",
            "6.4, 2.8, 5.6, 2.2, Iris-virginica\n",
            "6.3, 2.8, 5.1, 1.5, Iris-virginica\n",
            "6.1, 2.6, 5.6, 1.4, Iris-virginica\n",
            "7.7, 3, 6.1, 2.3, Iris-virginica\n",
            "6.3, 3.4, 5.6, 2.4, Iris-virginica\n",
            "6.4, 3.1, 5.5, 1.8, Iris-virginica\n",
            "6, 3, 4.8, 1.8, Iris-virginica\n",
            "6.9, 3.1, 5.4, 2.1, Iris-virginica\n",
            "6.7, 3.1, 5.6, 2.4, Iris-virginica\n",
            "6.9, 3.1, 5.1, 2.3, Iris-virginica\n",
            "5.8, 2.7, 5.1, 1.9, Iris-virginica\n",
            "6.8, 3.2, 5.9, 2.3, Iris-virginica\n",
            "6.7, 3.3, 5.7, 2.5, Iris-virginica\n",
            "6.7, 3, 5.2, 2.3, Iris-virginica\n",
            "6.3, 2.5, 5, 1.9, Iris-virginica\n",
            "6.5, 3, 5.2, 2, Iris-virginica\n",
            "6.2, 3.4, 5.4, 2.3, Iris-virginica\n",
            "5.9, 3, 5.1, 1.8, Iris-virginica\n"
          ]
        }
      ],
      "source": [
        "import csv\n",
        "with open(r'IRIS.csv') as csvfile:\n",
        "    lines = csv.reader(csvfile)\n",
        "    for row in lines:\n",
        "        print (', '.join(row))"
      ]
    },
    {
      "cell_type": "markdown",
      "source": [
        "Now you need to split the data into a training dataset (for making the prediction) and a testing dataset (for evaluating the accuracy of the model). \n",
        "\n",
        "Before you continue, convert the flower measures loaded as strings to numbers. Next, randomly split the dataset into train and test dataset. Generally, a standard ratio of 67/33 is used for test/train split"
      ],
      "metadata": {
        "id": "iiuzzv8i3xG4"
      }
    },
    {
      "cell_type": "markdown",
      "source": [
        "#Handle Dataset\n",
        "Define a function handleDataset which will load the CSV when provided with the exact filename and splits it randomly into train and test datasets using the provided split ratio."
      ],
      "metadata": {
        "id": "x96G874X3ykE"
      }
    },
    {
      "cell_type": "code",
      "source": [
        "import csv\n",
        "import random\n",
        "def handleDataset(filename, split, trainingSet=[] , testSet=[]):\n",
        "    with open(filename, 'r') as csvfile:\n",
        "        lines = csv.reader(csvfile)\n",
        "        dataset = list(lines)\n",
        "        for x in range(len(dataset)-1):\n",
        "            for y in range(4):\n",
        "                dataset[x][y] = float(dataset[x][y])\n",
        "            if random.random() < split:\n",
        "                trainingSet.append(dataset[x])\n",
        "            else:\n",
        "                testSet.append(dataset[x])"
      ],
      "metadata": {
        "id": "pu1zPnRW4J2P"
      },
      "execution_count": 1,
      "outputs": []
    },
    {
      "cell_type": "markdown",
      "source": [
        "Testing handleDataset function"
      ],
      "metadata": {
        "id": "YYEP7VGv1Din"
      }
    },
    {
      "cell_type": "code",
      "source": [
        "trainingSet=[]\n",
        "testSet=[]\n",
        "handleDataset(r'IRIS.csv', 0.66, trainingSet, testSet)\n",
        "print ('Train: ' + repr(len(trainingSet)))\n",
        "print ('Test: ' + repr(len(testSet)))"
      ],
      "metadata": {
        "colab": {
          "base_uri": "https://localhost:8080/"
        },
        "id": "PsWObaln1EvH",
        "outputId": "de218ae8-f917-41ad-90ad-ac78b1c38260"
      },
      "execution_count": 9,
      "outputs": [
        {
          "output_type": "stream",
          "name": "stdout",
          "text": [
            "Train: 101\n",
            "Test: 48\n"
          ]
        }
      ]
    },
    {
      "cell_type": "markdown",
      "source": [
        "#Step 2: Calculate the distance\n",
        "In order to make any predictions, you have to calculate the distance between the new point and the existing points, as you will be needing k closest points.\n",
        "\n",
        "In this case for calculating the distance, we will use the Euclidean distance. This is defined as the square root of the sum of the squared differences between the two arrays of numbers\n",
        "\n",
        "Specifically, we need only first 4 attributes(features) for distance calculation as the last attribute is a class label. So for one of the approach is to limit the Euclidean distance to a fixed length, thereby ignoring the final dimension."
      ],
      "metadata": {
        "id": "hE64roZ07LTZ"
      }
    },
    {
      "cell_type": "markdown",
      "source": [
        "Summing it up let’s define euclideanDistance function as follows:"
      ],
      "metadata": {
        "id": "Z1XYl5bG7hpX"
      }
    },
    {
      "cell_type": "code",
      "source": [
        "import math\n",
        "def euclideanDistance(instance1, instance2, length):\n",
        "    distance = 0\n",
        "    for x in range(length):\n",
        "        distance += pow((instance1[x] - instance2[x]), 2)\n",
        "    return math.sqrt(distance)"
      ],
      "metadata": {
        "id": "lVaWn24v7d7v"
      },
      "execution_count": 10,
      "outputs": []
    },
    {
      "cell_type": "markdown",
      "source": [
        "Testing the euclideanDistance function,"
      ],
      "metadata": {
        "id": "7aBV4h3a7nLt"
      }
    },
    {
      "cell_type": "code",
      "source": [
        "data1 = [2, 2, 2, 'a']\n",
        "data2 = [4, 4, 4, 'b']\n",
        "distance = euclideanDistance(data1, data2, 3)\n",
        "print ('Distance: ' + repr(distance))"
      ],
      "metadata": {
        "colab": {
          "base_uri": "https://localhost:8080/"
        },
        "id": "FXXYcs3l7oEU",
        "outputId": "ae849aa9-2bc5-4058-bcd5-fad068e0b206"
      },
      "execution_count": 11,
      "outputs": [
        {
          "output_type": "stream",
          "name": "stdout",
          "text": [
            "Distance: 3.4641016151377544\n"
          ]
        }
      ]
    },
    {
      "cell_type": "markdown",
      "source": [
        "#Step 3: Find k nearest point\n",
        "Now that you have calculated the distance from each point, we can use it collect the k most similar points/instances for the given test data/instance.\n",
        "\n",
        "This is a straightforward process: Calculate the distance wrt all the instance and select the subset having the smallest Euclidean distance."
      ],
      "metadata": {
        "id": "1IpOVmvM7th_"
      }
    },
    {
      "cell_type": "code",
      "source": [
        "import operator \n",
        "def getKNeighbors(trainingSet, testInstance, k):\n",
        "    distances = []\n",
        "    length = len(testInstance)-1\n",
        "    for x in range(len(trainingSet)):\n",
        "        dist = euclideanDistance(testInstance, trainingSet[x], length)\n",
        "        distances.append((trainingSet[x], dist))\n",
        "    distances.sort(key=operator.itemgetter(1))\n",
        "    neighbors = []\n",
        "    for x in range(k):\n",
        "        neighbors.append(distances[x][0])\n",
        "    return neighbors"
      ],
      "metadata": {
        "id": "e5i00rNm7vJC"
      },
      "execution_count": 12,
      "outputs": []
    },
    {
      "cell_type": "markdown",
      "source": [
        "Testing getKNeighbors function\n"
      ],
      "metadata": {
        "id": "Bc0Ijb_071kp"
      }
    },
    {
      "cell_type": "code",
      "source": [
        "trainSet = [[2, 2, 2, 'a'], [4, 4, 4, 'b']]\n",
        "testInstance = [5, 5, 5]\n",
        "k = 1\n",
        "neighbors = getKNeighbors(trainSet, testInstance, 1)\n",
        "print(neighbors)"
      ],
      "metadata": {
        "colab": {
          "base_uri": "https://localhost:8080/"
        },
        "id": "ox16CHkl74tA",
        "outputId": "6b3203eb-9a66-4130-e6b4-ce5ccde3cd8f"
      },
      "execution_count": 14,
      "outputs": [
        {
          "output_type": "stream",
          "name": "stdout",
          "text": [
            "[[4, 4, 4, 'b']]\n"
          ]
        }
      ]
    },
    {
      "cell_type": "markdown",
      "source": [
        "#Step 4: Predict the class\n",
        "Now that you have the k nearest points/neighbors for the given test instance, the next task is to predicted response based on those neighbors\n",
        "\n",
        "You can do this by allowing each neighbor to vote for their class attribute, and take the majority vote as the prediction.\n",
        "\n",
        "Let’s create a getResponse function for getting the majority voted response from a number of neighbors.\n",
        "\n"
      ],
      "metadata": {
        "id": "PpqouzVt8DDF"
      }
    },
    {
      "cell_type": "code",
      "source": [
        "import operator\n",
        "def getResponse(neighbors):\n",
        "    classVotes = {}\n",
        "    for x in range(len(neighbors)):\n",
        "        response = neighbors[x][-1]\n",
        "        if response in classVotes:\n",
        "            classVotes[response] += 1\n",
        "        else:\n",
        "            classVotes[response] = 1\n",
        "    sortedVotes = sorted(classVotes.items(), key=operator.itemgetter(1), reverse=True)\n",
        "    return sortedVotes[0][0]"
      ],
      "metadata": {
        "id": "SuquUPsM8EZw"
      },
      "execution_count": 15,
      "outputs": []
    },
    {
      "cell_type": "markdown",
      "source": [
        "Testing getResponse function"
      ],
      "metadata": {
        "id": "0nf871hP8JV5"
      }
    },
    {
      "cell_type": "code",
      "source": [
        "neighbors = [[1,1,1,'a'], [2,2,2,'a'], [3,3,3,'b']]\n",
        "print(getResponse(neighbors))"
      ],
      "metadata": {
        "colab": {
          "base_uri": "https://localhost:8080/"
        },
        "id": "A3N4c2398KY-",
        "outputId": "45feb2ea-eba2-445a-efa4-183a7f658a65"
      },
      "execution_count": 16,
      "outputs": [
        {
          "output_type": "stream",
          "name": "stdout",
          "text": [
            "a\n"
          ]
        }
      ]
    },
    {
      "cell_type": "markdown",
      "source": [
        "#Step 5: Check the accuracy\n",
        "Now that we have all of the pieces of the kNN algorithm in place. Let’s check how accurate our prediction is!\n",
        "\n",
        "An easy way to evaluate the accuracy of the model is to calculate a ratio of the total correct predictions out of all predictions made.\n",
        "\n",
        "Let’s create a getAccuracy function which sums the total correct predictions and returns the accuracy as a percentage of correct classifications."
      ],
      "metadata": {
        "id": "OeqsHnyS8RTJ"
      }
    },
    {
      "cell_type": "code",
      "source": [
        "def getAccuracy(testSet, predictions):\n",
        "    correct = 0\n",
        "    for x in range(len(testSet)):\n",
        "        if testSet[x][-1] is predictions[x]:\n",
        "            correct += 1\n",
        "    return (correct/float(len(testSet))) * 100.0"
      ],
      "metadata": {
        "id": "Gi2GnuOO8SZ7"
      },
      "execution_count": 17,
      "outputs": []
    },
    {
      "cell_type": "markdown",
      "source": [
        "Testing getAccuracy function"
      ],
      "metadata": {
        "id": "5W3NCSYQ8XpO"
      }
    },
    {
      "cell_type": "code",
      "source": [
        "testSet = [[1,1,1,'a'], [2,2,2,'a'], [3,3,3,'b']]\n",
        "predictions = ['a', 'a', 'a']\n",
        "accuracy = getAccuracy(testSet, predictions)\n",
        "print(accuracy)"
      ],
      "metadata": {
        "colab": {
          "base_uri": "https://localhost:8080/"
        },
        "id": "jwyX7LHj8Y9s",
        "outputId": "cac7c348-8138-4376-f403-37080d0a3d03"
      },
      "execution_count": 18,
      "outputs": [
        {
          "output_type": "stream",
          "name": "stdout",
          "text": [
            "66.66666666666666\n"
          ]
        }
      ]
    },
    {
      "cell_type": "markdown",
      "source": [
        "#Since we have created all the pieces of the KNN algorithm, let’s tie them up using the main function."
      ],
      "metadata": {
        "id": "5YIHcg4u8lJc"
      }
    },
    {
      "cell_type": "code",
      "source": [
        "# Example of kNN implemented from Scratch in Python\n",
        " \n",
        "import csv\n",
        "import random\n",
        "import math\n",
        "import operator\n",
        " \n",
        "def handleDataset(filename, split, trainingSet=[] , testSet=[]):\n",
        "    with open(filename, 'rb') as csvfile:\n",
        "        lines = csv.reader(csvfile)\n",
        "        dataset = list(lines)\n",
        "        for x in range(len(dataset)-1):\n",
        "            for y in range(4):\n",
        "                dataset[x][y] = float(dataset[x][y])\n",
        "            if random.random() < split: trainingSet.append(dataset[x]) \n",
        "            else: testSet.append(dataset[x]) \n",
        "def euclideanDistance(instance1, instance2, length): \n",
        "  distance = 0 \n",
        "  for x in range(length): \n",
        "    distance += pow((instance1[x] - instance2[x]), 2) \n",
        "  return math.sqrt(distance) \n",
        "\n",
        "def getNeighbors(trainingSet, testInstance, k): \n",
        "  distances = [] \n",
        "  length = len(testInstance)-1 \n",
        "  for x in range(len(trainingSet)): \n",
        "    dist = euclideanDistance(testInstance, trainingSet[x], length) \n",
        "    distances.append((trainingSet[x], dist)) \n",
        "    distances.sort(key=operator.itemgetter(1)) \n",
        "    neighbors = [] \n",
        "    for x in range(k): \n",
        "      neighbors.append(distances[x][0]) \n",
        "      return neighbors \n",
        "def getResponse(neighbors): \n",
        "  classVotes = {} \n",
        "  for x in range(len(neighbors)): \n",
        "    response = neighbors[x][-1] \n",
        "    if response in classVotes: \n",
        "      classVotes[response] += 1 \n",
        "    else: \n",
        "      classVotes[response] = 1 \n",
        "    sortedVotes = sorted(classVotes.iteritems(), key=operator.itemgetter(1), reverse=True) \n",
        "    return sortedVotes[0][0] \n",
        "def getAccuracy(testSet, predictions): \n",
        "  correct = 0 \n",
        "  for x in range(len(testSet)): \n",
        "    if testSet[x][-1] == predictions[x]: \n",
        "      correct += 1 \n",
        "  return (correct/float(len(testSet))) * 100.0 \n",
        "def main(): \n",
        "  \n",
        "  \n",
        "  # prepare data trainingSet=[] testSet=[] split = 0.67 loadDataset('iris.data', split, trainingSet, testSet) print 'Train set: ' + repr(len(trainingSet)) print 'Test set: ' + repr(len(testSet)) # generate predictions predictions=[] k = 3 for x in range(len(testSet)): neighbors = getNeighbors(trainingSet, testSet[x], k) result = getResponse(neighbors) predictions.append(result) print('> predicted=' + repr(result) + ', actual=' + repr(testSet[x][-1]))\n",
        "    accuracy = getAccuracy(testSet, predictions)\n",
        "    print('Accuracy: ' + repr(accuracy) + '%')\n",
        "     \n",
        "main()"
      ],
      "metadata": {
        "colab": {
          "base_uri": "https://localhost:8080/"
        },
        "id": "3xk3mYZH8mQN",
        "outputId": "aac02f15-6dc7-4f2d-8399-db8f03dd12a2"
      },
      "execution_count": 27,
      "outputs": [
        {
          "output_type": "stream",
          "name": "stdout",
          "text": [
            "Accuracy: 66.66666666666666%\n"
          ]
        }
      ]
    }
  ]
}